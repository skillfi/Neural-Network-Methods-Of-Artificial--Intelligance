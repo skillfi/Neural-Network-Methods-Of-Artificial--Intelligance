{
 "cells": [
  {
   "cell_type": "markdown",
   "id": "12fb4742",
   "metadata": {},
   "source": [
    "Встановити IDE Anaconda"
   ]
  },
  {
   "cell_type": "markdown",
   "id": "f920211e",
   "metadata": {},
   "source": [
    "Встановити бібліотеку dlib"
   ]
  },
  {
   "cell_type": "markdown",
   "id": "ab161508",
   "metadata": {},
   "source": [
    "Встановити JupiterNotebook."
   ]
  },
  {
   "cell_type": "markdown",
   "id": "1e91493e",
   "metadata": {},
   "source": [
    "Взяти дві свої оцифровані фотографії: одну теперішню, а іншу\n",
    "давнішню (з паспорта, наприклад). Порівняти їх і зробити висновок."
   ]
  },
  {
   "cell_type": "markdown",
   "id": "c81fd875",
   "metadata": {},
   "source": [
    "Спробувати «обіграти» нейронну мережу. Знайти дві фотографії різних\n",
    "людей, але схожих І подати їх на НМ. Подивитись чи розпізнає їх НМ\n",
    "як різних людей чи як одного."
   ]
  },
  {
   "cell_type": "markdown",
   "id": "64017be2",
   "metadata": {},
   "source": [
    "Зробити висновок по роботі."
   ]
  },
  {
   "cell_type": "code",
   "execution_count": 1,
   "id": "a9f6038b",
   "metadata": {},
   "outputs": [
    {
     "ename": "ModuleNotFoundError",
     "evalue": "No module named 'dlib'",
     "output_type": "error",
     "traceback": [
      "\u001b[1;31m---------------------------------------------------------------------------\u001b[0m",
      "\u001b[1;31mModuleNotFoundError\u001b[0m                       Traceback (most recent call last)",
      "\u001b[1;32m<ipython-input-1-6486527c9bac>\u001b[0m in \u001b[0;36m<module>\u001b[1;34m\u001b[0m\n\u001b[1;32m----> 1\u001b[1;33m \u001b[1;32mimport\u001b[0m \u001b[0mdlib\u001b[0m\u001b[1;33m\u001b[0m\u001b[1;33m\u001b[0m\u001b[0m\n\u001b[0m\u001b[0;32m      2\u001b[0m \u001b[1;32mfrom\u001b[0m \u001b[0mskimage\u001b[0m \u001b[1;32mimport\u001b[0m \u001b[0mio\u001b[0m\u001b[1;33m\u001b[0m\u001b[1;33m\u001b[0m\u001b[0m\n\u001b[0;32m      3\u001b[0m \u001b[1;32mfrom\u001b[0m \u001b[0mscipy\u001b[0m\u001b[1;33m.\u001b[0m\u001b[0mspatial\u001b[0m \u001b[1;32mimport\u001b[0m \u001b[0mdistance\u001b[0m\u001b[1;33m\u001b[0m\u001b[1;33m\u001b[0m\u001b[0m\n\u001b[0;32m      4\u001b[0m \u001b[0msp\u001b[0m \u001b[1;33m=\u001b[0m \u001b[0mdlib\u001b[0m\u001b[1;33m.\u001b[0m\u001b[0mshape_predictor\u001b[0m\u001b[1;33m(\u001b[0m\u001b[1;34m'shape_predictor_68_face_landmarks.dat'\u001b[0m\u001b[1;33m)\u001b[0m\u001b[1;33m\u001b[0m\u001b[1;33m\u001b[0m\u001b[0m\n\u001b[0;32m      5\u001b[0m \u001b[0mfacerec\u001b[0m \u001b[1;33m=\u001b[0m \u001b[0mdlib\u001b[0m\u001b[1;33m.\u001b[0m\u001b[0mface_recognition_model_v1\u001b[0m\u001b[1;33m(\u001b[0m\u001b[1;34m'dlib_face_recognition_resnet_model_v1.dat'\u001b[0m\u001b[1;33m)\u001b[0m\u001b[1;33m\u001b[0m\u001b[1;33m\u001b[0m\u001b[0m\n",
      "\u001b[1;31mModuleNotFoundError\u001b[0m: No module named 'dlib'"
     ]
    }
   ],
   "source": [
    "import dlib\n",
    "from skimage import io\n",
    "from scipy.spatial import distance\n",
    "sp = dlib.shape_predictor('shape_predictor_68_face_landmarks.dat')\n",
    "facerec = dlib.face_recognition_model_v1('dlib_face_recognition_resnet_model_v1.dat')\n",
    "detector = dlib.get_frontal_face_detector()\n",
    "img = io.imread('AS1.png')\n",
    "win1 = dlib.image_window()\n",
    "win1.clear_overlay()\n",
    "win1.set_image(img)\n",
    "dets = detector(img, 1)\n",
    "for k, d in enumerate(dets):\n",
    "    print(f\"Detection {k}: Left: {d.left()} Top: {d.top()} Right: {d.right()} Bottom: {d.bottom()}\")\n",
    "    shape = sp(img, d)\n",
    "    win1.clear_overlay()\n",
    "    win1.add_overlay(d)\n",
    "    win1.add_overlay(shape)\n",
    "face_descriptor = facerec.compute_face_descriptor(img, shape)\n",
    "img = io.imread('AS2.jpg')\n",
    "win2 = dlib.image_window()\n",
    "win2.clear_overlay()\n",
    "win2.set_image(img)\n",
    "dets = detector(img, 1)\n",
    "for k, d in enumerate(dets):\n",
    "    print(f\"Detection {k}: Left: {d.left()} Top: {d.top()} Right: {d.right()} Bottom: {d.bottom()}\")\n",
    "    shape = sp(img, d)\n",
    "    win2.clear_overlay()\n",
    "    win2.add_overlay(d)\n",
    "    win2.add_overlay(shape)\n",
    "face_descriptor2 = facerec.compute_face_descriptor(img, shape)\n",
    "a = distance.euclidean(face_descriptor, face_descriptor2)\n",
    "print(a)"
   ]
  },
  {
   "cell_type": "code",
   "execution_count": null,
   "id": "99e7112a",
   "metadata": {},
   "outputs": [],
   "source": []
  }
 ],
 "metadata": {
  "kernelspec": {
   "display_name": "Python 3",
   "language": "python",
   "name": "python3"
  },
  "language_info": {
   "codemirror_mode": {
    "name": "ipython",
    "version": 3
   },
   "file_extension": ".py",
   "mimetype": "text/x-python",
   "name": "python",
   "nbconvert_exporter": "python",
   "pygments_lexer": "ipython3",
   "version": "3.8.8"
  }
 },
 "nbformat": 4,
 "nbformat_minor": 5
}
